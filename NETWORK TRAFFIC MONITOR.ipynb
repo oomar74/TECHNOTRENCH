{
 "cells": [
  {
   "cell_type": "code",
   "execution_count": 6,
   "id": "d86b6b52-8231-4a38-b26a-f777947cbe53",
   "metadata": {},
   "outputs": [
    {
     "name": "stderr",
     "output_type": "stream",
     "text": [
      "Exception in thread Thread-9:\n",
      "Traceback (most recent call last):\n",
      "  File \"C:\\Users\\Omar\\anaconda3\\lib\\threading.py\", line 980, in _bootstrap_inner\n",
      "    self.run()\n",
      "  File \"C:\\Users\\Omar\\anaconda3\\lib\\threading.py\", line 917, in run\n",
      "    self._target(*self._args, **self._kwargs)\n",
      "  File \"C:\\Users\\Omar\\AppData\\Local\\Temp\\ipykernel_124916\\1121322197.py\", line 33, in start_sniffing\n",
      "  File \"C:\\Users\\Omar\\anaconda3\\lib\\site-packages\\scapy\\sendrecv.py\", line 1311, in sniff\n",
      "    sniffer._run(*args, **kwargs)\n",
      "  File \"C:\\Users\\Omar\\anaconda3\\lib\\site-packages\\scapy\\sendrecv.py\", line 1171, in _run\n",
      "    sniff_sockets[_RL2(iface)(type=ETH_P_ALL, iface=iface,\n",
      "  File \"C:\\Users\\Omar\\anaconda3\\lib\\site-packages\\scapy\\arch\\windows\\__init__.py\", line 1019, in __init__\n",
      "    raise RuntimeError(\n",
      "RuntimeError: Sniffing and sending packets is not available at layer 2: winpcap is not installed. You may use conf.L3socket orconf.L3socket6 to access layer 3\n"
     ]
    }
   ],
   "source": [
    "from scapy.all import sniff, IP, TCP, UDP, ARP\n",
    "import tkinter as tk\n",
    "from tkinter import scrolledtext\n",
    "import threading\n",
    "\n",
    "# Function to analyze packets\n",
    "def analyze_packet(packet):\n",
    "    if IP in packet:\n",
    "        ip_src = packet[IP].src\n",
    "        ip_dst = packet[IP].dst\n",
    "        proto = packet[IP].proto\n",
    "        payload = packet[IP].payload\n",
    "\n",
    "        proto_name = {1: 'ICMP', 6: 'TCP', 17: 'UDP'}.get(proto, 'OTHER')\n",
    "\n",
    "        display_packet_info(ip_src, ip_dst, proto_name, payload)\n",
    "\n",
    "        # Check for suspicious traffic (example: TCP packets to unusual ports)\n",
    "        if proto_name == 'TCP' and (packet[TCP].dport == 4444 or packet[TCP].sport == 4444):\n",
    "            display_suspicious_info(ip_src, ip_dst, proto_name, payload)\n",
    "\n",
    "def display_packet_info(src, dst, proto, payload):\n",
    "    info = f\"Source: {src}, Destination: {dst}, Protocol: {proto}, Payload: {payload}\\n\"\n",
    "    text_area.insert(tk.END, info)\n",
    "    text_area.see(tk.END)\n",
    "\n",
    "def display_suspicious_info(src, dst, proto, payload):\n",
    "    info = f\"[SUSPICIOUS] Source: {src}, Destination: {dst}, Protocol: {proto}, Payload: {payload}\\n\"\n",
    "    text_area.insert(tk.END, info)\n",
    "    text_area.see(tk.END)\n",
    "\n",
    "def start_sniffing():\n",
    "    sniff(prn=analyze_packet, store=0)\n",
    "\n",
    "# GUI Setup\n",
    "root = tk.Tk()\n",
    "root.title(\"Network Traffic Monitoring Tool\")\n",
    "\n",
    "frame = tk.Frame(root)\n",
    "frame.pack(padx=10, pady=10)\n",
    "\n",
    "text_area = scrolledtext.ScrolledText(frame, wrap=tk.WORD, width=100, height=30)\n",
    "text_area.pack(padx=10, pady=10)\n",
    "\n",
    "start_button = tk.Button(root, text=\"Start Monitoring\", command=lambda: threading.Thread(target=start_sniffing).start())\n",
    "start_button.pack(pady=10)\n",
    "\n",
    "root.mainloop()\n"
   ]
  },
  {
   "cell_type": "markdown",
   "id": "3307587e-3907-4e16-af14-40b18b986ac4",
   "metadata": {},
   "source": []
  }
 ],
 "metadata": {
  "kernelspec": {
   "display_name": "Python 3 (ipykernel)",
   "language": "python",
   "name": "python3"
  },
  "language_info": {
   "codemirror_mode": {
    "name": "ipython",
    "version": 3
   },
   "file_extension": ".py",
   "mimetype": "text/x-python",
   "name": "python",
   "nbconvert_exporter": "python",
   "pygments_lexer": "ipython3",
   "version": "3.9.13"
  }
 },
 "nbformat": 4,
 "nbformat_minor": 5
}
